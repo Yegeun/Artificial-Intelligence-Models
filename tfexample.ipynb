{
 "cells": [
  {
   "cell_type": "code",
   "execution_count": 16,
   "id": "e7b6ae4b",
   "metadata": {},
   "outputs": [
    {
     "name": "stdout",
     "output_type": "stream",
     "text": [
      "TensorFlow version: 2.4.1\n",
      "Is there a GPU available: \n",
      "[PhysicalDevice(name='/physical_device:GPU:0', device_type='GPU')]\n",
      "Is the Tensor on GPU #0:  \n",
      "True\n"
     ]
    }
   ],
   "source": [
    "import tensorflow as tf\n",
    "print(\"TensorFlow version:\", tf.__version__)\n",
    "x = tf.random.uniform([3, 3])\n",
    "print(\"Is there a GPU available: \"),\n",
    "print(tf.config.list_physical_devices(\"GPU\"))\n",
    "print(\"Is the Tensor on GPU #0:  \"),\n",
    "\n",
    "print(x.device.endswith('GPU:0'))\n"
   ]
  },
  {
   "cell_type": "code",
   "execution_count": 17,
   "id": "88ebe232",
   "metadata": {},
   "outputs": [],
   "source": [
    "mnist = tf.keras.datasets.mnist\n",
    "\n",
    "(x_train, y_train), (x_test, y_test) = mnist.load_data()\n",
    "x_train, x_test = x_train / 255.0, x_test / 255.0\n"
   ]
  },
  {
   "cell_type": "code",
   "execution_count": 18,
   "id": "7e64cda1",
   "metadata": {},
   "outputs": [],
   "source": [
    "model = tf.keras.models.Sequential([\n",
    "  tf.keras.layers.Flatten(input_shape=(28, 28)),\n",
    "  tf.keras.layers.Dense(128, activation='relu'),\n",
    "  tf.keras.layers.Dropout(0.2),\n",
    "  tf.keras.layers.Dense(10)\n",
    "])\n"
   ]
  },
  {
   "cell_type": "code",
   "execution_count": 19,
   "id": "fcf4d564",
   "metadata": {},
   "outputs": [
    {
     "data": {
      "text/plain": [
       "array([[ 0.07980333,  0.56728494,  0.33331797, -0.51762104,  0.31886405,\n",
       "        -0.55233836, -0.34089792,  0.14598894,  0.12213394,  0.4741358 ]],\n",
       "      dtype=float32)"
      ]
     },
     "execution_count": 19,
     "metadata": {},
     "output_type": "execute_result"
    }
   ],
   "source": [
    "predictions = model(x_train[:1]).numpy()\n",
    "predictions\n"
   ]
  },
  {
   "cell_type": "code",
   "execution_count": 20,
   "id": "77c06a86",
   "metadata": {},
   "outputs": [
    {
     "data": {
      "text/plain": [
       "array([[0.0950558 , 0.15477088, 0.12248381, 0.05230227, 0.12072616,\n",
       "        0.05051763, 0.06241233, 0.10156   , 0.09916596, 0.14100517]],\n",
       "      dtype=float32)"
      ]
     },
     "execution_count": 20,
     "metadata": {},
     "output_type": "execute_result"
    }
   ],
   "source": [
    "tf.nn.softmax(predictions).numpy()\n"
   ]
  },
  {
   "cell_type": "code",
   "execution_count": 21,
   "id": "ff280b2f",
   "metadata": {},
   "outputs": [],
   "source": [
    "loss_fn = tf.keras.losses.SparseCategoricalCrossentropy(from_logits=True)\n"
   ]
  },
  {
   "cell_type": "code",
   "execution_count": 22,
   "id": "fcc5b9b9",
   "metadata": {},
   "outputs": [
    {
     "data": {
      "text/plain": [
       "2.9854326"
      ]
     },
     "execution_count": 22,
     "metadata": {},
     "output_type": "execute_result"
    }
   ],
   "source": [
    "loss_fn(y_train[:1], predictions).numpy()\n"
   ]
  },
  {
   "cell_type": "code",
   "execution_count": 23,
   "id": "7e96ee69",
   "metadata": {},
   "outputs": [],
   "source": [
    "model.compile(optimizer='adam',\n",
    "              loss=loss_fn,\n",
    "              metrics=['accuracy'])\n"
   ]
  },
  {
   "cell_type": "code",
   "execution_count": 24,
   "id": "d7f52928",
   "metadata": {},
   "outputs": [
    {
     "name": "stdout",
     "output_type": "stream",
     "text": [
      "Epoch 1/5\n",
      "1875/1875 [==============================] - 1s 543us/step - loss: 0.4803 - accuracy: 0.8593\n",
      "Epoch 2/5\n",
      "1875/1875 [==============================] - 1s 541us/step - loss: 0.1537 - accuracy: 0.9538\n",
      "Epoch 3/5\n",
      "1875/1875 [==============================] - 1s 547us/step - loss: 0.1086 - accuracy: 0.9686\n",
      "Epoch 4/5\n",
      "1875/1875 [==============================] - 1s 532us/step - loss: 0.0851 - accuracy: 0.9750\n",
      "Epoch 5/5\n",
      "1875/1875 [==============================] - 1s 539us/step - loss: 0.0707 - accuracy: 0.9774\n"
     ]
    },
    {
     "data": {
      "text/plain": [
       "<tensorflow.python.keras.callbacks.History at 0x7f24bc730a30>"
      ]
     },
     "execution_count": 24,
     "metadata": {},
     "output_type": "execute_result"
    }
   ],
   "source": [
    "model.fit(x_train, y_train, epochs=5)\n"
   ]
  },
  {
   "cell_type": "code",
   "execution_count": 25,
   "id": "d7595827",
   "metadata": {},
   "outputs": [
    {
     "name": "stdout",
     "output_type": "stream",
     "text": [
      "313/313 - 0s - loss: 0.0724 - accuracy: 0.9784\n"
     ]
    },
    {
     "data": {
      "text/plain": [
       "[0.0724346712231636, 0.9783999919891357]"
      ]
     },
     "execution_count": 25,
     "metadata": {},
     "output_type": "execute_result"
    }
   ],
   "source": [
    "model.evaluate(x_test,  y_test, verbose=2)\n"
   ]
  },
  {
   "cell_type": "code",
   "execution_count": 26,
   "id": "a31dfedc",
   "metadata": {},
   "outputs": [],
   "source": [
    "probability_model = tf.keras.Sequential([\n",
    "  model,\n",
    "  tf.keras.layers.Softmax()\n",
    "])\n"
   ]
  },
  {
   "cell_type": "code",
   "execution_count": 27,
   "id": "c51a7f80",
   "metadata": {},
   "outputs": [
    {
     "data": {
      "text/plain": [
       "<tf.Tensor: shape=(5, 10), dtype=float32, numpy=\n",
       "array([[9.9877351e-09, 1.4891159e-09, 3.6746599e-06, 7.7695309e-05,\n",
       "        1.1244543e-11, 1.8493868e-08, 1.2743340e-11, 9.9991751e-01,\n",
       "        3.0436979e-07, 7.5676576e-07],\n",
       "       [1.8517291e-08, 1.9418732e-04, 9.9974900e-01, 4.9582384e-05,\n",
       "        1.4108782e-15, 6.8463987e-06, 4.3874696e-08, 4.3551730e-14,\n",
       "        2.8090102e-07, 1.4032430e-11],\n",
       "       [8.0492003e-07, 9.9927765e-01, 1.7185110e-04, 1.0462590e-05,\n",
       "        1.2698319e-05, 1.7934974e-06, 6.3001612e-06, 3.5709632e-04,\n",
       "        1.6093205e-04, 4.9710144e-07],\n",
       "       [9.9940300e-01, 3.4033627e-07, 6.8456000e-05, 7.5365034e-07,\n",
       "        5.9904721e-08, 2.0721254e-05, 4.0880745e-04, 8.0024540e-05,\n",
       "        1.2785000e-07, 1.7761089e-05],\n",
       "       [2.1209257e-06, 4.6579398e-09, 9.6086569e-06, 2.7094551e-08,\n",
       "        9.9636155e-01, 6.2609956e-07, 3.4326918e-06, 2.0999049e-05,\n",
       "        1.9063580e-06, 3.5997177e-03]], dtype=float32)>"
      ]
     },
     "execution_count": 27,
     "metadata": {},
     "output_type": "execute_result"
    }
   ],
   "source": [
    "probability_model(x_test[:5])\n"
   ]
  },
  {
   "cell_type": "code",
   "execution_count": 28,
   "id": "f59b8f87",
   "metadata": {},
   "outputs": [
    {
     "name": "stdout",
     "output_type": "stream",
     "text": [
      "Is there a GPU available: \n",
      "Num GPUs Available:  1\n"
     ]
    }
   ],
   "source": [
    "print(\"Is there a GPU available: \"),\n",
    "print(\"Num GPUs Available: \", len(tf.config.list_physical_devices('GPU')))\n",
    "\n"
   ]
  },
  {
   "cell_type": "code",
   "execution_count": null,
   "id": "29e63b7a",
   "metadata": {},
   "outputs": [],
   "source": []
  },
  {
   "cell_type": "code",
   "execution_count": null,
   "id": "9b721a85",
   "metadata": {},
   "outputs": [],
   "source": []
  }
 ],
 "metadata": {
  "kernelspec": {
   "display_name": "Python 3 (ipykernel)",
   "language": "python",
   "name": "python3"
  },
  "language_info": {
   "codemirror_mode": {
    "name": "ipython",
    "version": 3
   },
   "file_extension": ".py",
   "mimetype": "text/x-python",
   "name": "python",
   "nbconvert_exporter": "python",
   "pygments_lexer": "ipython3",
   "version": "3.9.15"
  }
 },
 "nbformat": 4,
 "nbformat_minor": 5
}
